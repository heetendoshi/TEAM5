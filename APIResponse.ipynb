{
 "cells": [
  {
   "cell_type": "code",
   "execution_count": 43,
   "metadata": {},
   "outputs": [],
   "source": [
    "import os\n",
    "import csv\n",
    "import requests\n",
    "import pandas as pd\n",
    "import json\n",
    "from pprint import pprint\n",
    "api_key='KMXu7o4jj9H_5fBmmoxcQUXUcjaIiDMpnabg34SZhyJUQPt-H6y8sfBIq8jI65xOovUH7cKhDpTUnvK2UIFOf1r5864boyx0PCcIwR4QQ1OeR8IWr5RO7UxW3HJoXXYx'\n",
    "headers = {'Authorization': 'Bearer %s' % api_key}\n",
    "url='https://api.yelp.com/v3/businesses/search'"
   ]
  },
  {
   "cell_type": "code",
   "execution_count": 44,
   "metadata": {},
   "outputs": [],
   "source": [
    "# In the dictionary, term can take values like food, cafes or businesses like McDonalds\n",
    "cities =['new york city','san francisco','houston','chicago']\n",
    "restaurants = []\n",
    "for city in cities:\n",
    "    for offset in range(0,500,50):\n",
    "        params = {'term':'seafood','location':city,'limit':50, 'offset':offset}\n",
    "        response = requests.get(url, params=params, headers=headers).json()\n",
    "#         bussearch_response_json = response.json()\n",
    "        restaurants.append(response)\n",
    "\n",
    "        "
   ]
  },
  {
   "cell_type": "code",
   "execution_count": 75,
   "metadata": {},
   "outputs": [],
   "source": [
    "final = {}\n",
    "data = []\n",
    "for j in range(len(restaurants)):\n",
    "    for i in range(len(restaurants[j]['businesses'])):\n",
    "        final['Restaurant ID'] = restaurants[j]['businesses'][i]['id']\n",
    "        final['Name'] = restaurants[j]['businesses'][i]['name']\n",
    "        final['Rating'] = restaurants[j]['businesses'][i]['rating']\n",
    "        final['Zipcode'] = restaurants[j]['businesses'][i]['location']['zip_code']\n",
    "        final['State'] = restaurants[j]['businesses'][i]['location']['state']\n",
    "        data.append(final)"
   ]
  },
  {
   "cell_type": "code",
   "execution_count": 82,
   "metadata": {},
   "outputs": [
    {
     "data": {
      "text/plain": [
       "{'id': 'ehUuSk5gPTCQmwS_ubgKRA',\n",
       " 'alias': 'upstate-new-york-2',\n",
       " 'name': 'Upstate',\n",
       " 'image_url': 'https://s3-media1.fl.yelpcdn.com/bphoto/RvnUVU7MF7DT0RzNL-EebQ/o.jpg',\n",
       " 'is_closed': False,\n",
       " 'url': 'https://www.yelp.com/biz/upstate-new-york-2?adjust_creative=PR-SYvR1gRsEOO-jJ-FdTA&utm_campaign=yelp_api_v3&utm_medium=api_v3_business_search&utm_source=PR-SYvR1gRsEOO-jJ-FdTA',\n",
       " 'review_count': 1770,\n",
       " 'categories': [{'alias': 'seafood', 'title': 'Seafood'},\n",
       "  {'alias': 'wine_bars', 'title': 'Wine Bars'},\n",
       "  {'alias': 'beerbar', 'title': 'Beer Bar'}],\n",
       " 'rating': 4.5,\n",
       " 'coordinates': {'latitude': 40.7263139141197, 'longitude': -73.9864901976935},\n",
       " 'transactions': ['restaurant_reservation'],\n",
       " 'price': '$$',\n",
       " 'location': {'address1': '95 1st Ave',\n",
       "  'address2': '',\n",
       "  'address3': '',\n",
       "  'city': 'New York',\n",
       "  'zip_code': '10003',\n",
       "  'country': 'US',\n",
       "  'state': 'NY',\n",
       "  'display_address': ['95 1st Ave', 'New York, NY 10003']},\n",
       " 'phone': '+16467915400',\n",
       " 'display_phone': '(646) 791-5400',\n",
       " 'distance': 2411.9187177986864}"
      ]
     },
     "execution_count": 82,
     "metadata": {},
     "output_type": "execute_result"
    }
   ],
   "source": [
    "restaurants[0]['businesses'][0]"
   ]
  },
  {
   "cell_type": "code",
   "execution_count": 78,
   "metadata": {},
   "outputs": [],
   "source": [
    "restaurants_df = pd.DataFrame(data)"
   ]
  },
  {
   "cell_type": "code",
   "execution_count": 83,
   "metadata": {},
   "outputs": [
    {
     "data": {
      "text/html": [
       "<div>\n",
       "<style scoped>\n",
       "    .dataframe tbody tr th:only-of-type {\n",
       "        vertical-align: middle;\n",
       "    }\n",
       "\n",
       "    .dataframe tbody tr th {\n",
       "        vertical-align: top;\n",
       "    }\n",
       "\n",
       "    .dataframe thead th {\n",
       "        text-align: right;\n",
       "    }\n",
       "</style>\n",
       "<table border=\"1\" class=\"dataframe\">\n",
       "  <thead>\n",
       "    <tr style=\"text-align: right;\">\n",
       "      <th></th>\n",
       "      <th>Name</th>\n",
       "      <th>Rating</th>\n",
       "      <th>Restaurant ID</th>\n",
       "      <th>State</th>\n",
       "      <th>Zipcode</th>\n",
       "    </tr>\n",
       "  </thead>\n",
       "  <tbody>\n",
       "    <tr>\n",
       "      <th>0</th>\n",
       "      <td>Masa Azul</td>\n",
       "      <td>4.5</td>\n",
       "      <td>zipWyPrxNX8m5XFwm3b1lg</td>\n",
       "      <td>IL</td>\n",
       "      <td>60647</td>\n",
       "    </tr>\n",
       "    <tr>\n",
       "      <th>1</th>\n",
       "      <td>Masa Azul</td>\n",
       "      <td>4.5</td>\n",
       "      <td>zipWyPrxNX8m5XFwm3b1lg</td>\n",
       "      <td>IL</td>\n",
       "      <td>60647</td>\n",
       "    </tr>\n",
       "    <tr>\n",
       "      <th>2</th>\n",
       "      <td>Masa Azul</td>\n",
       "      <td>4.5</td>\n",
       "      <td>zipWyPrxNX8m5XFwm3b1lg</td>\n",
       "      <td>IL</td>\n",
       "      <td>60647</td>\n",
       "    </tr>\n",
       "    <tr>\n",
       "      <th>3</th>\n",
       "      <td>Masa Azul</td>\n",
       "      <td>4.5</td>\n",
       "      <td>zipWyPrxNX8m5XFwm3b1lg</td>\n",
       "      <td>IL</td>\n",
       "      <td>60647</td>\n",
       "    </tr>\n",
       "    <tr>\n",
       "      <th>4</th>\n",
       "      <td>Masa Azul</td>\n",
       "      <td>4.5</td>\n",
       "      <td>zipWyPrxNX8m5XFwm3b1lg</td>\n",
       "      <td>IL</td>\n",
       "      <td>60647</td>\n",
       "    </tr>\n",
       "  </tbody>\n",
       "</table>\n",
       "</div>"
      ],
      "text/plain": [
       "        Name  Rating           Restaurant ID State Zipcode\n",
       "0  Masa Azul     4.5  zipWyPrxNX8m5XFwm3b1lg    IL   60647\n",
       "1  Masa Azul     4.5  zipWyPrxNX8m5XFwm3b1lg    IL   60647\n",
       "2  Masa Azul     4.5  zipWyPrxNX8m5XFwm3b1lg    IL   60647\n",
       "3  Masa Azul     4.5  zipWyPrxNX8m5XFwm3b1lg    IL   60647\n",
       "4  Masa Azul     4.5  zipWyPrxNX8m5XFwm3b1lg    IL   60647"
      ]
     },
     "execution_count": 83,
     "metadata": {},
     "output_type": "execute_result"
    }
   ],
   "source": [
    "restaurants_df.head()"
   ]
  },
  {
   "cell_type": "code",
   "execution_count": 85,
   "metadata": {},
   "outputs": [
    {
     "data": {
      "text/plain": [
       "(2000, 5)"
      ]
     },
     "execution_count": 85,
     "metadata": {},
     "output_type": "execute_result"
    }
   ],
   "source": [
    "restaurants_df.shape"
   ]
  },
  {
   "cell_type": "code",
   "execution_count": null,
   "metadata": {},
   "outputs": [],
   "source": []
  }
 ],
 "metadata": {
  "kernelspec": {
   "display_name": "Python 3",
   "language": "python",
   "name": "python3"
  },
  "language_info": {
   "codemirror_mode": {
    "name": "ipython",
    "version": 3
   },
   "file_extension": ".py",
   "mimetype": "text/x-python",
   "name": "python",
   "nbconvert_exporter": "python",
   "pygments_lexer": "ipython3",
   "version": "3.7.3"
  }
 },
 "nbformat": 4,
 "nbformat_minor": 2
}
